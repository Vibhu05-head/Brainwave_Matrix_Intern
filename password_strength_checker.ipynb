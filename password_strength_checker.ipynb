{
 "cells": [
  {
   "cell_type": "code",
   "execution_count": 4,
   "id": "1ff5cc8e-99e1-40de-a8d9-9df794c35ddd",
   "metadata": {},
   "outputs": [
    {
     "name": "stdin",
     "output_type": "stream",
     "text": [
      "Enter a password:  heloo!Abhu\n"
     ]
    },
    {
     "name": "stdout",
     "output_type": "stream",
     "text": [
      "Password Strength: Weak\n"
     ]
    }
   ],
   "source": [
    "import re\n",
    "\n",
    "def check_password_strength(password):\n",
    "    strength_score = 0\n",
    "    \n",
    "    if len(password) > 10:\n",
    "        strength_score += 1\n",
    "    if len(password) >= 12:\n",
    "        strength_score += 1\n",
    "    \n",
    "    if re.search(r\"[A-Z]\", password) and re.search(r\"[a-z]\", password):\n",
    "        strength_score += 1\n",
    "    \n",
    "    if re.search(r\"\\d\", password):\n",
    "        strength_score += 1\n",
    "    \n",
    "    if re.search(r\"[!@#$%^&*(),.?\\\":{}|<>]\", password):\n",
    "        strength_score += 1\n",
    "    \n",
    "    if strength_score <= 2:\n",
    "        return \"Weak\"\n",
    "    elif strength_score == 3:\n",
    "        return \"Moderate\"\n",
    "    elif strength_score >= 4:\n",
    "        return \"Strong\"\n",
    "\n",
    "if __name__ == \"__main__\":\n",
    "    password = input(\"Enter a password: \")\n",
    "    strength = check_password_strength(password)\n",
    "    print(f\"Password Strength: {strength}\")\n"
   ]
  },
  {
   "cell_type": "code",
   "execution_count": null,
   "id": "83b50a94-8db0-48e6-a6d9-9443927a8a69",
   "metadata": {},
   "outputs": [],
   "source": []
  }
 ],
 "metadata": {
  "kernelspec": {
   "display_name": "Python 3 (ipykernel)",
   "language": "python",
   "name": "python3"
  },
  "language_info": {
   "codemirror_mode": {
    "name": "ipython",
    "version": 3
   },
   "file_extension": ".py",
   "mimetype": "text/x-python",
   "name": "python",
   "nbconvert_exporter": "python",
   "pygments_lexer": "ipython3",
   "version": "3.13.1"
  }
 },
 "nbformat": 4,
 "nbformat_minor": 5
}
